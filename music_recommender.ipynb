{
 "cells": [
  {
   "cell_type": "markdown",
   "id": "cd071162",
   "metadata": {},
   "source": [
    "Baics of Data prediction (music recommedations)"
   ]
  },
  {
   "cell_type": "code",
   "execution_count": 1,
   "id": "f4ec0d73",
   "metadata": {},
   "outputs": [
    {
     "data": {
      "text/plain": [
       "1.0"
      ]
     },
     "execution_count": 1,
     "metadata": {},
     "output_type": "execute_result"
    }
   ],
   "source": [
    "# Import necessary libraries\n",
    "import pandas as pd  # For data manipulation and analysis\n",
    "from sklearn.tree import DecisionTreeClassifier  # To create a Decision Tree Classifier\n",
    "from sklearn.model_selection import train_test_split  # To split data into training and testing sets\n",
    "from sklearn.metrics import accuracy_score  # To evaluate the accuracy of the model\n",
    "\n",
    "# Load the dataset\n",
    "music_data = pd.read_csv('music.csv')\n",
    "\n",
    "# Separate input features (X) and target variable (y)\n",
    "X = music_data.drop(columns=['genre'])  # Input features (attributes) excluding the 'genre' column\n",
    "y = music_data['genre']  # Target variable, the column we want to predict\n",
    "\n",
    "# Split the data into training and testing sets\n",
    "X_train, X_test, y_train, y_test = train_test_split(X, y, test_size=0.2)  # 80% training, 20% testing\n",
    "\n",
    "# Create a Decision Tree Classifier model\n",
    "model = DecisionTreeClassifier()\n",
    "\n",
    "# Train the model on the training data\n",
    "model.fit(X_train, y_train)\n",
    "\n",
    "# Make predictions on the testing data\n",
    "predictions = model.predict(X_test)\n",
    "\n",
    "# Evaluate the accuracy of the model by comparing the predicted labels with the actual labels\n",
    "score = accuracy_score(y_test, predictions)  # Calculate accuracy\n",
    "score  # Print the accuracy score"
  "\n",
    "# Visualize training and testing set\n",
    "import seaborn as sns  #load seaborn \n",
    "sns.plt(X, y, data=music_data, fit_reg=true, ci=None" 
   ]
  }
 ],
 "metadata": {
  "kernelspec": {
   "display_name": "Python 3 (ipykernel)",
   "language": "python",
   "name": "python3"
  },
  "language_info": {
   "codemirror_mode": {
    "name": "ipython",
    "version": 3
   },
   "file_extension": ".py",
   "mimetype": "text/x-python",
   "name": "python",
   "nbconvert_exporter": "python",
   "pygments_lexer": "ipython3",
   "version": "3.9.12"
  }
 },
 "nbformat": 4,
 "nbformat_minor": 5
}
