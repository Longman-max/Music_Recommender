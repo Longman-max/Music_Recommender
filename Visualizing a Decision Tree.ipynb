{
 "cells": [
  {
   "cell_type": "code",
   "execution_count": 1,
   "id": "9a84d2e6",
   "metadata": {},
   "outputs": [],
   "source": [
    "# Importing necessary libraries\n",
    "import pandas as pd \n",
    "from sklearn.tree import DecisionTreeClassifier\n",
    "from sklearn import tree\n",
    "\n",
    "# Loading the dataset from a CSV file ('music.csv' assumed to be present in the current directory)\n",
    "music_data = pd.read_csv('music.csv')\n",
    "\n",
    "# Separating features (X) and target variable (y)\n",
    "X = music_data.drop(columns=['genre'])  # Features (age and gender)\n",
    "y = music_data['genre']  # Target variable (the genre of music)\n",
    "\n",
    "# Creating a decision tree classifier model\n",
    "model = DecisionTreeClassifier()\n",
    "\n",
    "# Fitting the model with the features and target variable\n",
    "model.fit(X.values, y)\n",
    "\n",
    "# Exporting the decision tree visualization to a file named 'music-recommender.dot'\n",
    "# This file can be converted to an image using Graphviz tools\n",
    "tree.export_graphviz(model, out_file='music-recommender.dot',\n",
    "                    feature_names=['age', 'gender'],  # Names of the features\n",
    "                    class_names=sorted(y.unique()),  # Names of the classes (genres)\n",
    "                    label='all',  # Labels all nodes\n",
    "                    rounded=True,  # Rounds the corners of the nodes\n",
    "                    filled=True)  # Fills the nodes with colors representing majority class\n"
   ]
  },
  {
   "cell_type": "code",
   "execution_count": null,
   "id": "ddacb64d",
   "metadata": {},
   "outputs": [],
   "source": []
  }
 ],
 "metadata": {
  "kernelspec": {
   "display_name": "Python 3 (ipykernel)",
   "language": "python",
   "name": "python3"
  },
  "language_info": {
   "codemirror_mode": {
    "name": "ipython",
    "version": 3
   },
   "file_extension": ".py",
   "mimetype": "text/x-python",
   "name": "python",
   "nbconvert_exporter": "python",
   "pygments_lexer": "ipython3",
   "version": "3.11.5"
  }
 },
 "nbformat": 4,
 "nbformat_minor": 5
}
